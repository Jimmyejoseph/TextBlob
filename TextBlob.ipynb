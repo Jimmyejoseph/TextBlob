{
  "cells": [
    {
      "cell_type": "markdown",
      "metadata": {
        "id": "7716427d"
      },
      "source": [
        "# TextBlob Analysis Notebook\n",
        "This notebook demonstrates various functionalities of the TextBlob library for text processing and analysis."
      ]
    },
    {
      "cell_type": "code",
      "execution_count": null,
      "metadata": {
        "colab": {
          "base_uri": "https://localhost:8080/"
        },
        "id": "FJFIilV8evpG",
        "outputId": "b196aafb-c551-4653-9752-b54c18ce57de"
      },
      "outputs": [
        {
          "output_type": "stream",
          "name": "stdout",
          "text": [
            "Requirement already satisfied: textblob in /usr/local/lib/python3.10/dist-packages (0.17.1)\n",
            "Requirement already satisfied: nltk>=3.1 in /usr/local/lib/python3.10/dist-packages (from textblob) (3.8.1)\n",
            "Requirement already satisfied: click in /usr/local/lib/python3.10/dist-packages (from nltk>=3.1->textblob) (8.1.7)\n",
            "Requirement already satisfied: joblib in /usr/local/lib/python3.10/dist-packages (from nltk>=3.1->textblob) (1.4.2)\n",
            "Requirement already satisfied: regex>=2021.8.3 in /usr/local/lib/python3.10/dist-packages (from nltk>=3.1->textblob) (2023.12.25)\n",
            "Requirement already satisfied: tqdm in /usr/local/lib/python3.10/dist-packages (from nltk>=3.1->textblob) (4.66.4)\n"
          ]
        }
      ],
      "source": [
        "pip install textblob"
      ]
    },
    {
      "cell_type": "markdown",
      "metadata": {
        "id": "8fd54107"
      },
      "source": [
        "## Step 1: Import Libraries\n",
        "First, we import the necessary libraries, including TextBlob for text processing."
      ]
    },
    {
      "cell_type": "code",
      "execution_count": null,
      "metadata": {
        "id": "CFMbMIXGaGsu"
      },
      "outputs": [],
      "source": [
        "import io\n",
        "from google.colab import files\n",
        "import pandas as pd\n",
        "import csv\n",
        "from textblob import TextBlob\n",
        "import nltk"
      ]
    },
    {
      "cell_type": "markdown",
      "metadata": {
        "id": "1d568b46"
      },
      "source": [
        "## Step 2: TextBlob Basics\n",
        "In this step, we create a TextBlob object and demonstrate basic text operations like noun phrase extraction and sentiment analysis."
      ]
    },
    {
      "cell_type": "code",
      "execution_count": null,
      "metadata": {
        "colab": {
          "base_uri": "https://localhost:8080/"
        },
        "id": "GY0h7qJsgate",
        "outputId": "2b00a107-b3ba-4e48-a325-ccb8a20bb49a"
      },
      "outputs": [
        {
          "output_type": "stream",
          "name": "stderr",
          "text": [
            "[nltk_data] Downloading package punkt to /root/nltk_data...\n",
            "[nltk_data]   Unzipping tokenizers/punkt.zip.\n"
          ]
        },
        {
          "output_type": "execute_result",
          "data": {
            "text/plain": [
              "True"
            ]
          },
          "metadata": {},
          "execution_count": 3
        }
      ],
      "source": [
        "nltk.download('punkt')"
      ]
    },
    {
      "cell_type": "markdown",
      "metadata": {
        "id": "513ff19b"
      },
      "source": [
        "## Step 3: Part-of-Speech Tagging\n",
        "Here, we use TextBlob to perform part-of-speech tagging on a given text."
      ]
    },
    {
      "cell_type": "code",
      "execution_count": null,
      "metadata": {
        "colab": {
          "base_uri": "https://localhost:8080/",
          "height": 76
        },
        "id": "yzAP-GvdZNgX",
        "outputId": "80e70478-d7b3-40cf-f848-daab32697c9d"
      },
      "outputs": [
        {
          "output_type": "display_data",
          "data": {
            "text/plain": [
              "<IPython.core.display.HTML object>"
            ],
            "text/html": [
              "\n",
              "     <input type=\"file\" id=\"files-25a2c191-236d-4815-b8be-b2e06856ab80\" name=\"files[]\" multiple disabled\n",
              "        style=\"border:none\" />\n",
              "     <output id=\"result-25a2c191-236d-4815-b8be-b2e06856ab80\">\n",
              "      Upload widget is only available when the cell has been executed in the\n",
              "      current browser session. Please rerun this cell to enable.\n",
              "      </output>\n",
              "      <script>// Copyright 2017 Google LLC\n",
              "//\n",
              "// Licensed under the Apache License, Version 2.0 (the \"License\");\n",
              "// you may not use this file except in compliance with the License.\n",
              "// You may obtain a copy of the License at\n",
              "//\n",
              "//      http://www.apache.org/licenses/LICENSE-2.0\n",
              "//\n",
              "// Unless required by applicable law or agreed to in writing, software\n",
              "// distributed under the License is distributed on an \"AS IS\" BASIS,\n",
              "// WITHOUT WARRANTIES OR CONDITIONS OF ANY KIND, either express or implied.\n",
              "// See the License for the specific language governing permissions and\n",
              "// limitations under the License.\n",
              "\n",
              "/**\n",
              " * @fileoverview Helpers for google.colab Python module.\n",
              " */\n",
              "(function(scope) {\n",
              "function span(text, styleAttributes = {}) {\n",
              "  const element = document.createElement('span');\n",
              "  element.textContent = text;\n",
              "  for (const key of Object.keys(styleAttributes)) {\n",
              "    element.style[key] = styleAttributes[key];\n",
              "  }\n",
              "  return element;\n",
              "}\n",
              "\n",
              "// Max number of bytes which will be uploaded at a time.\n",
              "const MAX_PAYLOAD_SIZE = 100 * 1024;\n",
              "\n",
              "function _uploadFiles(inputId, outputId) {\n",
              "  const steps = uploadFilesStep(inputId, outputId);\n",
              "  const outputElement = document.getElementById(outputId);\n",
              "  // Cache steps on the outputElement to make it available for the next call\n",
              "  // to uploadFilesContinue from Python.\n",
              "  outputElement.steps = steps;\n",
              "\n",
              "  return _uploadFilesContinue(outputId);\n",
              "}\n",
              "\n",
              "// This is roughly an async generator (not supported in the browser yet),\n",
              "// where there are multiple asynchronous steps and the Python side is going\n",
              "// to poll for completion of each step.\n",
              "// This uses a Promise to block the python side on completion of each step,\n",
              "// then passes the result of the previous step as the input to the next step.\n",
              "function _uploadFilesContinue(outputId) {\n",
              "  const outputElement = document.getElementById(outputId);\n",
              "  const steps = outputElement.steps;\n",
              "\n",
              "  const next = steps.next(outputElement.lastPromiseValue);\n",
              "  return Promise.resolve(next.value.promise).then((value) => {\n",
              "    // Cache the last promise value to make it available to the next\n",
              "    // step of the generator.\n",
              "    outputElement.lastPromiseValue = value;\n",
              "    return next.value.response;\n",
              "  });\n",
              "}\n",
              "\n",
              "/**\n",
              " * Generator function which is called between each async step of the upload\n",
              " * process.\n",
              " * @param {string} inputId Element ID of the input file picker element.\n",
              " * @param {string} outputId Element ID of the output display.\n",
              " * @return {!Iterable<!Object>} Iterable of next steps.\n",
              " */\n",
              "function* uploadFilesStep(inputId, outputId) {\n",
              "  const inputElement = document.getElementById(inputId);\n",
              "  inputElement.disabled = false;\n",
              "\n",
              "  const outputElement = document.getElementById(outputId);\n",
              "  outputElement.innerHTML = '';\n",
              "\n",
              "  const pickedPromise = new Promise((resolve) => {\n",
              "    inputElement.addEventListener('change', (e) => {\n",
              "      resolve(e.target.files);\n",
              "    });\n",
              "  });\n",
              "\n",
              "  const cancel = document.createElement('button');\n",
              "  inputElement.parentElement.appendChild(cancel);\n",
              "  cancel.textContent = 'Cancel upload';\n",
              "  const cancelPromise = new Promise((resolve) => {\n",
              "    cancel.onclick = () => {\n",
              "      resolve(null);\n",
              "    };\n",
              "  });\n",
              "\n",
              "  // Wait for the user to pick the files.\n",
              "  const files = yield {\n",
              "    promise: Promise.race([pickedPromise, cancelPromise]),\n",
              "    response: {\n",
              "      action: 'starting',\n",
              "    }\n",
              "  };\n",
              "\n",
              "  cancel.remove();\n",
              "\n",
              "  // Disable the input element since further picks are not allowed.\n",
              "  inputElement.disabled = true;\n",
              "\n",
              "  if (!files) {\n",
              "    return {\n",
              "      response: {\n",
              "        action: 'complete',\n",
              "      }\n",
              "    };\n",
              "  }\n",
              "\n",
              "  for (const file of files) {\n",
              "    const li = document.createElement('li');\n",
              "    li.append(span(file.name, {fontWeight: 'bold'}));\n",
              "    li.append(span(\n",
              "        `(${file.type || 'n/a'}) - ${file.size} bytes, ` +\n",
              "        `last modified: ${\n",
              "            file.lastModifiedDate ? file.lastModifiedDate.toLocaleDateString() :\n",
              "                                    'n/a'} - `));\n",
              "    const percent = span('0% done');\n",
              "    li.appendChild(percent);\n",
              "\n",
              "    outputElement.appendChild(li);\n",
              "\n",
              "    const fileDataPromise = new Promise((resolve) => {\n",
              "      const reader = new FileReader();\n",
              "      reader.onload = (e) => {\n",
              "        resolve(e.target.result);\n",
              "      };\n",
              "      reader.readAsArrayBuffer(file);\n",
              "    });\n",
              "    // Wait for the data to be ready.\n",
              "    let fileData = yield {\n",
              "      promise: fileDataPromise,\n",
              "      response: {\n",
              "        action: 'continue',\n",
              "      }\n",
              "    };\n",
              "\n",
              "    // Use a chunked sending to avoid message size limits. See b/62115660.\n",
              "    let position = 0;\n",
              "    do {\n",
              "      const length = Math.min(fileData.byteLength - position, MAX_PAYLOAD_SIZE);\n",
              "      const chunk = new Uint8Array(fileData, position, length);\n",
              "      position += length;\n",
              "\n",
              "      const base64 = btoa(String.fromCharCode.apply(null, chunk));\n",
              "      yield {\n",
              "        response: {\n",
              "          action: 'append',\n",
              "          file: file.name,\n",
              "          data: base64,\n",
              "        },\n",
              "      };\n",
              "\n",
              "      let percentDone = fileData.byteLength === 0 ?\n",
              "          100 :\n",
              "          Math.round((position / fileData.byteLength) * 100);\n",
              "      percent.textContent = `${percentDone}% done`;\n",
              "\n",
              "    } while (position < fileData.byteLength);\n",
              "  }\n",
              "\n",
              "  // All done.\n",
              "  yield {\n",
              "    response: {\n",
              "      action: 'complete',\n",
              "    }\n",
              "  };\n",
              "}\n",
              "\n",
              "scope.google = scope.google || {};\n",
              "scope.google.colab = scope.google.colab || {};\n",
              "scope.google.colab._files = {\n",
              "  _uploadFiles,\n",
              "  _uploadFilesContinue,\n",
              "};\n",
              "})(self);\n",
              "</script> "
            ]
          },
          "metadata": {}
        },
        {
          "output_type": "stream",
          "name": "stdout",
          "text": [
            "Saving text_data.txt to text_data.txt\n"
          ]
        }
      ],
      "source": [
        "uploaded = files.upload()"
      ]
    },
    {
      "cell_type": "markdown",
      "metadata": {
        "id": "f2202798"
      },
      "source": [
        "## Step 4: Translation and Language Detection\n",
        "We show how to use TextBlob for translating text between languages and detecting the language of a given text."
      ]
    },
    {
      "cell_type": "code",
      "execution_count": null,
      "metadata": {
        "id": "pZXvr-2UbZ3U"
      },
      "outputs": [],
      "source": [
        "text = uploaded.get('text_data.txt').decode(\"utf-8\")"
      ]
    },
    {
      "cell_type": "markdown",
      "metadata": {
        "id": "aa16038a"
      },
      "source": [
        "## Step 5: N-grams\n",
        "This section demonstrates how to generate n-grams (sequences of n words) using TextBlob."
      ]
    },
    {
      "cell_type": "code",
      "execution_count": null,
      "metadata": {
        "colab": {
          "base_uri": "https://localhost:8080/"
        },
        "id": "Sgp_s34jisDT",
        "outputId": "48e9d236-56f4-4bcb-ae46-23cc3a247099"
      },
      "outputs": [
        {
          "output_type": "stream",
          "name": "stdout",
          "text": [
            "That's right....the red velvet cake.....ohhh this stuff is so good.\t\r\n",
            "They never brought a salad we asked for.\t\r\n",
            "This hole in the wall has great Mexican street tacos, and friendly staff.\r\n",
            "Took an hour to get our food only 4 tables in restaurant my food was Luke warm, Our sever was running around like he was totally overwhelmed.\t\r\n",
            "The worst was the salmon sashimi.\t\r\n",
            "Also there are combos like a burger, fries, and beer for 23 which is a decent deal.\t\r\n",
            "This was like the final blow!\t\r\n",
            "I found this place by accident and I could not be happier.\t\r\n",
            "seems like a good quick place to grab a bite of some familiar pub food, but do yourself a favor and look elsewhere.\r\n",
            "Overall, I like this place a lot.\t\r\n",
            "The only redeeming quality of the restaurant was that it was very inexpensive.\t\r\n",
            "Ample portions and good prices.\t\r\n",
            "Poor service, the waiter made me feel like I was stupid every time he came to the table.\t\r\n",
            "My first visit to Hiro was a delight!\t\r\n",
            "Service sucks.\t\r\n",
            "The shrimp tender and moist.\t\r\n",
            "There is not a deal good enough that would drag me into that establishment again.\t\r\n",
            "Hard to judge whether these sides were good because we were grossed out by the melted styrofoam and didn't want to eat it for fear of getting sick.\t\r\n",
            "On a positive note, our server was very attentive and provided great service.\t\r\n",
            "Frozen pucks of disgust, with some of the worst people behind the register.\t\r\n",
            "The only thing I did like was the prime rib and dessert section.\t\r\n",
            "It's too bad the food is so damn generic.\t\r\n",
            "The burger is good beef, cooked just right.\t\r\n",
            "If you want a sandwich just go to any Firehouse!!!!!\t\r\n",
            "My side Greek salad with the Greek dressing was so tasty, and the pita and hummus was very refreshing.\t\r\n",
            "We ordered the duck rare and it was pink and tender on the inside with a nice char on the outside.\t\r\n",
            "He came running after us when he realized my husband had left his sunglasses on the table.\t\r\n",
            "Their chow mein is so good!\t\r\n",
            "They have horrible attitudes towards customers, and talk down to each one when customers don't enjoy their food.\t\r\n",
            "The portion was huge!\t\r\n",
            "Loved it...friendly servers, great food, wonderful and imaginative menu.\t\r\n",
            "The Heart Attack Grill in downtown Vegas is an absolutely flat-lined excuse for a restaurant.\t\r\n",
            "Not much seafood and like 5 strings of pasta at the bottom.\t\r\n",
            "The salad had just the right amount of sauce to not over power the scallop, which was perfectly cooked.\t\r\n",
            "The ripped banana was not only ripped, but petrified and tasteless.\t\r\n",
            "At least think to refill my water before I struggle to wave you over for 10 minutes.\t\r\n",
            "This place receives stars for their APPETIZERS!!!\t\r\n",
            "The cocktails are all handmade and delicious.\t\r\n",
            "We'd definitely go back here again.\t\r\n",
            "We are so glad we found this place.\t\n"
          ]
        }
      ],
      "source": [
        "print(text)"
      ]
    },
    {
      "cell_type": "markdown",
      "metadata": {
        "id": "f886385f"
      },
      "source": [
        "## Step 6: Word and Sentence Tokenization\n",
        "We use TextBlob to tokenize text into words and sentences."
      ]
    },
    {
      "cell_type": "code",
      "execution_count": null,
      "metadata": {
        "id": "5WPnrvAie9iR"
      },
      "outputs": [],
      "source": [
        "blob = TextBlob(text)"
      ]
    },
    {
      "cell_type": "code",
      "execution_count": null,
      "metadata": {
        "colab": {
          "base_uri": "https://localhost:8080/"
        },
        "id": "B2JxAUcRioUD",
        "outputId": "8e82726b-87ce-4a0e-fad9-561b8a9ab199"
      },
      "outputs": [
        {
          "output_type": "execute_result",
          "data": {
            "text/plain": [
              "TextBlob(\"That's right....the red velvet cake.....ohhh this stuff is so good.\t\n",
              "They never brought a salad we asked for.\t\n",
              "This hole in the wall has great Mexican street tacos, and friendly staff.\n",
              "Took an hour to get our food only 4 tables in restaurant my food was Luke warm, Our sever was running around like he was totally overwhelmed.\t\n",
              "The worst was the salmon sashimi.\t\n",
              "Also there are combos like a burger, fries, and beer for 23 which is a decent deal.\t\n",
              "This was like the final blow!\t\n",
              "I found this place by accident and I could not be happier.\t\n",
              "seems like a good quick place to grab a bite of some familiar pub food, but do yourself a favor and look elsewhere.\n",
              "Overall, I like this place a lot.\t\n",
              "The only redeeming quality of the restaurant was that it was very inexpensive.\t\n",
              "Ample portions and good prices.\t\n",
              "Poor service, the waiter made me feel like I was stupid every time he came to the table.\t\n",
              "My first visit to Hiro was a delight!\t\n",
              "Service sucks.\t\n",
              "The shrimp tender and moist.\t\n",
              "There is not a deal good enough that would drag me into that establishment again.\t\n",
              "Hard to judge whether these sides were good because we were grossed out by the melted styrofoam and didn't want to eat it for fear of getting sick.\t\n",
              "On a positive note, our server was very attentive and provided great service.\t\n",
              "Frozen pucks of disgust, with some of the worst people behind the register.\t\n",
              "The only thing I did like was the prime rib and dessert section.\t\n",
              "It's too bad the food is so damn generic.\t\n",
              "The burger is good beef, cooked just right.\t\n",
              "If you want a sandwich just go to any Firehouse!!!!!\t\n",
              "My side Greek salad with the Greek dressing was so tasty, and the pita and hummus was very refreshing.\t\n",
              "We ordered the duck rare and it was pink and tender on the inside with a nice char on the outside.\t\n",
              "He came running after us when he realized my husband had left his sunglasses on the table.\t\n",
              "Their chow mein is so good!\t\n",
              "They have horrible attitudes towards customers, and talk down to each one when customers don't enjoy their food.\t\n",
              "The portion was huge!\t\n",
              "Loved it...friendly servers, great food, wonderful and imaginative menu.\t\n",
              "The Heart Attack Grill in downtown Vegas is an absolutely flat-lined excuse for a restaurant.\t\n",
              "Not much seafood and like 5 strings of pasta at the bottom.\t\n",
              "The salad had just the right amount of sauce to not over power the scallop, which was perfectly cooked.\t\n",
              "The ripped banana was not only ripped, but petrified and tasteless.\t\n",
              "At least think to refill my water before I struggle to wave you over for 10 minutes.\t\n",
              "This place receives stars for their APPETIZERS!!!\t\n",
              "The cocktails are all handmade and delicious.\t\n",
              "We'd definitely go back here again.\t\n",
              "We are so glad we found this place.\t\")"
            ]
          },
          "metadata": {},
          "execution_count": 8
        }
      ],
      "source": [
        "blob"
      ]
    },
    {
      "cell_type": "code",
      "execution_count": null,
      "metadata": {
        "id": "FnoO0008ejMy"
      },
      "outputs": [],
      "source": [
        "sentences = blob.sentences"
      ]
    },
    {
      "cell_type": "code",
      "execution_count": null,
      "metadata": {
        "id": "D_v56gTnmE2Z"
      },
      "outputs": [],
      "source": [
        "def sentiment(polarity):\n",
        "    if polarity < 0.0:\n",
        "        print(\"Negative\")\n",
        "    elif polarity > 0.0:\n",
        "        print(\"Positive\")\n",
        "    else:\n",
        "        print(\"Neutral\")\n"
      ]
    },
    {
      "cell_type": "code",
      "execution_count": null,
      "metadata": {
        "colab": {
          "base_uri": "https://localhost:8080/"
        },
        "id": "9oV39NBXjLXi",
        "outputId": "6d46821c-33d5-41fa-afef-4326f38cd0b4"
      },
      "outputs": [
        {
          "output_type": "stream",
          "name": "stdout",
          "text": [
            "That's right....the red velvet cake.....ohhh this stuff is so good.\n",
            "Sentiment(polarity=0.35, subjectivity=0.30000000000000004)\n",
            "0.35\n",
            "Positive\n",
            "They never brought a salad we asked for.\n",
            "Sentiment(polarity=0.0, subjectivity=0.0)\n",
            "0.0\n",
            "Neutral\n",
            "This hole in the wall has great Mexican street tacos, and friendly staff.\n",
            "Sentiment(polarity=0.39166666666666666, subjectivity=0.4166666666666667)\n",
            "0.39166666666666666\n",
            "Positive\n",
            "Took an hour to get our food only 4 tables in restaurant my food was Luke warm, Our sever was running around like he was totally overwhelmed.\n",
            "Sentiment(polarity=0.19999999999999998, subjectivity=0.7833333333333333)\n",
            "0.19999999999999998\n",
            "Positive\n",
            "The worst was the salmon sashimi.\n",
            "Sentiment(polarity=-1.0, subjectivity=1.0)\n",
            "-1.0\n",
            "Negative\n",
            "Also there are combos like a burger, fries, and beer for 23 which is a decent deal.\n",
            "Sentiment(polarity=0.16666666666666666, subjectivity=0.6666666666666666)\n",
            "0.16666666666666666\n",
            "Positive\n",
            "This was like the final blow!\n",
            "Sentiment(polarity=0.0, subjectivity=1.0)\n",
            "0.0\n",
            "Neutral\n",
            "I found this place by accident and I could not be happier.\n",
            "Sentiment(polarity=0.0, subjectivity=0.0)\n",
            "0.0\n",
            "Neutral\n",
            "seems like a good quick place to grab a bite of some familiar pub food, but do yourself a favor and look elsewhere.\n",
            "Sentiment(polarity=0.4694444444444444, subjectivity=0.5333333333333333)\n",
            "0.4694444444444444\n",
            "Positive\n",
            "Overall, I like this place a lot.\n",
            "Sentiment(polarity=0.0, subjectivity=0.0)\n",
            "0.0\n",
            "Neutral\n",
            "The only redeeming quality of the restaurant was that it was very inexpensive.\n",
            "Sentiment(polarity=0.2333333333333333, subjectivity=0.6)\n",
            "0.2333333333333333\n",
            "Positive\n",
            "Ample portions and good prices.\n",
            "Sentiment(polarity=0.7, subjectivity=0.6000000000000001)\n",
            "0.7\n",
            "Positive\n",
            "Poor service, the waiter made me feel like I was stupid every time he came to the table.\n",
            "Sentiment(polarity=-0.6, subjectivity=0.8)\n",
            "-0.6\n",
            "Negative\n",
            "My first visit to Hiro was a delight!\n",
            "Sentiment(polarity=0.3125, subjectivity=0.3333333333333333)\n",
            "0.3125\n",
            "Positive\n",
            "Service sucks.\n",
            "Sentiment(polarity=-0.3, subjectivity=0.3)\n",
            "-0.3\n",
            "Negative\n",
            "The shrimp tender and moist.\n",
            "Sentiment(polarity=0.0, subjectivity=0.0)\n",
            "0.0\n",
            "Neutral\n",
            "There is not a deal good enough that would drag me into that establishment again.\n",
            "Sentiment(polarity=0.19999999999999998, subjectivity=0.3902777777777778)\n",
            "0.19999999999999998\n",
            "Positive\n",
            "Hard to judge whether these sides were good because we were grossed out by the melted styrofoam and didn't want to eat it for fear of getting sick.\n",
            "Sentiment(polarity=-0.10198412698412701, subjectivity=0.6662698412698412)\n",
            "-0.10198412698412701\n",
            "Negative\n",
            "On a positive note, our server was very attentive and provided great service.\n",
            "Sentiment(polarity=0.5157575757575757, subjectivity=0.7651515151515151)\n",
            "0.5157575757575757\n",
            "Positive\n",
            "Frozen pucks of disgust, with some of the worst people behind the register.\n",
            "Sentiment(polarity=-0.7, subjectivity=0.85)\n",
            "-0.7\n",
            "Negative\n",
            "The only thing I did like was the prime rib and dessert section.\n",
            "Sentiment(polarity=0.0, subjectivity=1.0)\n",
            "0.0\n",
            "Neutral\n",
            "It's too bad the food is so damn generic.\n",
            "Sentiment(polarity=-0.3499999999999999, subjectivity=0.3333333333333333)\n",
            "-0.3499999999999999\n",
            "Negative\n",
            "The burger is good beef, cooked just right.\n",
            "Sentiment(polarity=0.4928571428571428, subjectivity=0.5678571428571428)\n",
            "0.4928571428571428\n",
            "Positive\n",
            "If you want a sandwich just go to any Firehouse!!!!!\n",
            "Sentiment(polarity=0.0, subjectivity=0.0)\n",
            "0.0\n",
            "Neutral\n",
            "My side Greek salad with the Greek dressing was so tasty, and the pita and hummus was very refreshing.\n",
            "Sentiment(polarity=0.21666666666666667, subjectivity=0.3333333333333333)\n",
            "0.21666666666666667\n",
            "Positive\n",
            "We ordered the duck rare and it was pink and tender on the inside with a nice char on the outside.\n",
            "Sentiment(polarity=0.19999999999999998, subjectivity=0.5625)\n",
            "0.19999999999999998\n",
            "Positive\n",
            "He came running after us when he realized my husband had left his sunglasses on the table.\n",
            "Sentiment(polarity=0.0, subjectivity=0.0)\n",
            "0.0\n",
            "Neutral\n",
            "Their chow mein is so good!\n",
            "Sentiment(polarity=0.875, subjectivity=0.6000000000000001)\n",
            "0.875\n",
            "Positive\n",
            "They have horrible attitudes towards customers, and talk down to each one when customers don't enjoy their food.\n",
            "Sentiment(polarity=-0.2518518518518519, subjectivity=0.5962962962962963)\n",
            "-0.2518518518518519\n",
            "Negative\n",
            "The portion was huge!\n",
            "Sentiment(polarity=0.5000000000000001, subjectivity=0.9)\n",
            "0.5000000000000001\n",
            "Positive\n",
            "Loved it...friendly servers, great food, wonderful and imaginative menu.\n",
            "Sentiment(polarity=0.775, subjectivity=0.8125)\n",
            "0.775\n",
            "Positive\n",
            "The Heart Attack Grill in downtown Vegas is an absolutely flat-lined excuse for a restaurant.\n",
            "Sentiment(polarity=0.07500000000000001, subjectivity=0.47500000000000003)\n",
            "0.07500000000000001\n",
            "Positive\n",
            "Not much seafood and like 5 strings of pasta at the bottom.\n",
            "Sentiment(polarity=-0.1, subjectivity=0.2)\n",
            "-0.1\n",
            "Negative\n",
            "The salad had just the right amount of sauce to not over power the scallop, which was perfectly cooked.\n",
            "Sentiment(polarity=0.6428571428571428, subjectivity=0.7678571428571428)\n",
            "0.6428571428571428\n",
            "Positive\n",
            "The ripped banana was not only ripped, but petrified and tasteless.\n",
            "Sentiment(polarity=-0.3, subjectivity=0.95)\n",
            "-0.3\n",
            "Negative\n",
            "At least think to refill my water before I struggle to wave you over for 10 minutes.\n",
            "Sentiment(polarity=-0.3, subjectivity=0.4)\n",
            "-0.3\n",
            "Negative\n",
            "This place receives stars for their APPETIZERS!!!\n",
            "Sentiment(polarity=0.0, subjectivity=0.0)\n",
            "0.0\n",
            "Neutral\n",
            "The cocktails are all handmade and delicious.\n",
            "Sentiment(polarity=1.0, subjectivity=1.0)\n",
            "1.0\n",
            "Positive\n",
            "We'd definitely go back here again.\n",
            "Sentiment(polarity=0.0, subjectivity=0.0)\n",
            "0.0\n",
            "Neutral\n",
            "We are so glad we found this place.\n",
            "Sentiment(polarity=0.5, subjectivity=1.0)\n",
            "0.5\n",
            "Positive\n"
          ]
        }
      ],
      "source": [
        "x = 0\n",
        "for sentence in sentences:\n",
        "  print(sentences[x])\n",
        "  print(sentences[x].sentiment)\n",
        "  print(sentences[x].sentiment.polarity)\n",
        "  sentiment(sentences[x].sentiment.polarity)\n",
        "  x = x + 1"
      ]
    }
  ],
  "metadata": {
    "colab": {
      "provenance": []
    },
    "kernelspec": {
      "display_name": "Python 3",
      "name": "python3"
    },
    "language_info": {
      "name": "python"
    }
  },
  "nbformat": 4,
  "nbformat_minor": 0
}